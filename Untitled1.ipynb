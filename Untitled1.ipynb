{
 "cells": [
  {
   "cell_type": "markdown",
   "id": "72827ec7-1e9d-40a5-9dd1-4b24a8339cdd",
   "metadata": {},
   "source": [
    "# My Jupyter Notebook on IBM Watson Studio"
   ]
  },
  {
   "cell_type": "markdown",
   "id": "b3d6bd84-197a-4a64-a3e4-a99fd7987e67",
   "metadata": {},
   "source": [
    "<b> ayoub wagih </b>"
   ]
  },
  {
   "cell_type": "markdown",
   "id": "6d84bd99-40ca-4d6c-9c36-16ae5a1f583b",
   "metadata": {},
   "source": [
    "Engineering Analyst"
   ]
  },
  {
   "cell_type": "markdown",
   "id": "d02312e7-df76-4d97-9525-f03541824fbc",
   "metadata": {},
   "source": [
    "*string* I am interested in data science because, I want to combine the power of AI/ML with the business requirements, to create powerful solutions and provide deep insights into issues an organization needs to solve or discover underlying patterns to discover new potential insights"
   ]
  },
  {
   "cell_type": "markdown",
   "id": "45f8834e-1e68-45fa-bc82-7542ff7336aa",
   "metadata": {},
   "source": [
    "### The Following Code will generate a random integer between 80 and 100"
   ]
  },
  {
   "cell_type": "code",
   "execution_count": 1,
   "id": "ba310e5a-c71d-4a82-9aed-4d8494ac85cd",
   "metadata": {},
   "outputs": [
    {
     "name": "stdout",
     "output_type": "stream",
     "text": [
      "87\n"
     ]
    }
   ],
   "source": [
    "import random\n",
    "\n",
    "Random_int = random.randint(80,100)\n",
    "\n",
    "print(Random_int)"
   ]
  },
  {
   "cell_type": "markdown",
   "id": "6e130a1e-82a7-43fc-97df-4700cf092969",
   "metadata": {},
   "source": [
    "Interested technologies:"
   ]
  },
  {
   "cell_type": "markdown",
   "id": "eb84dbb9-6c95-400b-a741-6561118a6fca",
   "metadata": {},
   "source": [
    "***"
   ]
  },
  {
   "cell_type": "markdown",
   "id": "f24d04d4-9092-4329-b1f8-ca2336ae5717",
   "metadata": {},
   "source": [
    "1. AI- ML/DL\n",
    "2. Cloud\n",
    "3. Data Analytics\n",
    "4. IoT"
   ]
  },
  {
   "cell_type": "markdown",
   "id": "00da202d-538a-41f9-b4f7-e2857b459569",
   "metadata": {},
   "source": [
    "***"
   ]
  }
 ],
 "metadata": {
  "kernelspec": {
   "display_name": "Python 3",
   "language": "python",
   "name": "python3"
  },
  "language_info": {
   "codemirror_mode": {
    "name": "ipython",
    "version": 3
   },
   "file_extension": ".py",
   "mimetype": "text/x-python",
   "name": "python",
   "nbconvert_exporter": "python",
   "pygments_lexer": "ipython3",
   "version": "3.8.12"
  }
 },
 "nbformat": 4,
 "nbformat_minor": 5
}
